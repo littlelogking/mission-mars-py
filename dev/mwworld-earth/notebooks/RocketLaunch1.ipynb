{
 "cells": [
  {
   "cell_type": "markdown",
   "metadata": {},
   "source": [
    "# rocket launch 1"
   ]
  },
  {
   "cell_type": "code",
   "execution_count": 5,
   "metadata": {},
   "outputs": [],
   "source": [
    "#connects python to minecraft\n",
    "from mcpi.minecraft import Minecraft\n",
    "mc = Minecraft.create()"
   ]
  },
  {
   "cell_type": "code",
   "execution_count": 6,
   "metadata": {},
   "outputs": [],
   "source": [
    "#this piece of program creates the rocket\n",
    "pos = mc.player.getTilePos()\n",
    "x = 315\n",
    "y = 68\n",
    "z = 255\n",
    "height = 2\n",
    "blockType = 42\n",
    "blockType2 = 41\n",
    "\n",
    "sideHeight = height\n",
    "mc.setBlocks(x + 1, y, z + 1, x + 3, y + sideHeight - 1, z + 3, blockType)\n",
    "pointHeight=4\n",
    "mc.setBlocks(x + 2, y, z + 2, x + 2, y + pointHeight - 1, z + 2, blockType2)\n",
    "baseHeight=1\n",
    "mc.setBlocks(x, y, z, x + 4, y + baseHeight - 1, z + 4, blockType)"
   ]
  },
  {
   "cell_type": "code",
   "execution_count": 7,
   "metadata": {},
   "outputs": [],
   "source": [
    "#this piece of program creates the rocket but in the air with lava for flames!\n",
    "#lava bottom lol   this is what the rocket looks like when its in the air\n",
    "pos = mc.player.getTilePos()\n",
    "x = 365\n",
    "y = 118\n",
    "z = 255\n",
    "height = 2\n",
    "blockType = 42\n",
    "blockType2 = 41\n",
    "\n",
    "sideHeight = height\n",
    "mc.setBlocks(x + 1, y, z + 1, x + 3, y + sideHeight - 1, z + 3, blockType)\n",
    "pointHeight=4\n",
    "mc.setBlocks(x + 2, y, z + 2, x + 2, y + pointHeight - 1, z + 2, blockType2)\n",
    "baseHeight=1\n",
    "mc.setBlocks(x, y, z, x + 4, y + baseHeight - 1, z + 4, blockType)\n",
    "\n",
    "mc.player.setTilePos(x+15,y,z)"
   ]
  },
  {
   "cell_type": "code",
   "execution_count": 8,
   "metadata": {},
   "outputs": [
    {
     "name": "stdout",
     "output_type": "stream",
     "text": [
      "pos is:\n",
      "Vec3(380,118,255)\n",
      "Finished\n"
     ]
    }
   ],
   "source": [
    "#this is the program that will launch the rocket\n",
    "import time\n",
    "\n",
    "mc.postToChat(\"Walk to the rocket and stand on the redstone lamp next to it\")\n",
    "\n",
    "pos = mc.player.getTilePos()\n",
    "\n",
    "x = 315\n",
    "blockType = 42 \n",
    "y = 69\n",
    "z = 255\n",
    "height = 2\n",
    "blockType2 = 41\n",
    "\n",
    "sideHeight = height\n",
    "mc.setBlocks(x + 1, y, z + 1, x + 3, y + sideHeight - 1, z + 3, blockType)\n",
    "pointHeight=4\n",
    "mc.setBlocks(x + 2, y, z + 2, x + 2, y + pointHeight - 1, z + 2, blockType2)\n",
    "baseHeight=1\n",
    "mc.setBlocks(x, y, z, x + 4, y + baseHeight - 1, z + 4, blockType)\n",
    "\n",
    "pos = mc.player.getTilePos()\n",
    "print('pos is:')\n",
    "print(pos)\n",
    "\n",
    "\n",
    "if (pos.x == 314) and  (pos.y == 68) and (pos.z == 257):\n",
    "    print('we are here')\n",
    "    time.sleep(1)\n",
    "    x = 315\n",
    "    y = 69\n",
    "    z = 255\n",
    "    height = 2\n",
    "    blockType = 11\n",
    "    blockType2 = 11\n",
    "    sideHeight = height\n",
    "    mc.setBlocks(x + 1, y, z + 1, x + 3, y + sideHeight - 1, z + 3, blockType)\n",
    "    pointHeight=4\n",
    "    mc.setBlocks(x + 2, y, z + 2, x + 2, y + pointHeight - 1, z + 2, blockType2)\n",
    "    baseHeight=1\n",
    "    mc.setBlocks(x, y, z, x + 4, y + baseHeight - 1, z + 4, blockType)\n",
    "    x = 315\n",
    "    y = 70\n",
    "    z = 255\n",
    "    height = 2\n",
    "    blockType = 0\n",
    "    blockType2 = 0\n",
    "    sideHeight = height\n",
    "    mc.setBlocks(x + 1, y, z + 1, x + 3, y + sideHeight - 1, z + 3, blockType)\n",
    "    pointHeight=4\n",
    "    mc.setBlocks(x + 2, y, z + 2, x + 2, y + pointHeight - 1, z + 2, blockType2)\n",
    "    baseHeight=1\n",
    "    mc.setBlocks(x, y, z, x + 4, y + baseHeight - 1, z + 4, blockType)\n",
    "    x = 315\n",
    "    y = 68\n",
    "    z = 255\n",
    "    height = 2\n",
    "    blockType = 0\n",
    "    blockType2 = 0\n",
    "    sideHeight = height\n",
    "    mc.setBlocks(x + 1, y, z + 1, x + 3, y + sideHeight - 1, z + 3, blockType)\n",
    "    pointHeight=4\n",
    "    mc.setBlocks(x + 2, y, z + 2, x + 2, y + pointHeight - 1, z + 2, blockType2)\n",
    "    baseHeight=1\n",
    "    mc.setBlocks(x, y, z, x + 4, y + baseHeight - 1, z + 4, blockType)\n",
    "print('Finished')"
   ]
  }
 ],
 "metadata": {
  "kernelspec": {
   "display_name": "Python 3",
   "language": "python",
   "name": "python3"
  },
  "language_info": {
   "codemirror_mode": {
    "name": "ipython",
    "version": 3
   },
   "file_extension": ".py",
   "mimetype": "text/x-python",
   "name": "python",
   "nbconvert_exporter": "python",
   "pygments_lexer": "ipython3",
   "version": "3.6.4"
  }
 },
 "nbformat": 4,
 "nbformat_minor": 2
}
