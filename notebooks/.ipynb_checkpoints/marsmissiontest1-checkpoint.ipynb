{
 "cells": [
  {
   "cell_type": "markdown",
   "metadata": {},
   "source": [
    "#Mars mission Test Script"
   ]
  },
  {
   "cell_type": "markdown",
   "metadata": {},
   "source": [
    "State, control and const variable and initialisation testing"
   ]
  },
  {
   "cell_type": "code",
   "execution_count": 1,
   "metadata": {},
   "outputs": [
    {
     "name": "stdout",
     "output_type": "stream",
     "text": [
      "1\n",
      "30000\n",
      "0\n",
      "10\n",
      "10\n"
     ]
    }
   ],
   "source": [
    "import marsmission as mmc\n",
    "\n",
    "mm=mmc.marsmission()\n",
    "print(mm.control[mmc.ctl.DT])\n",
    "print(mm.state[mmc.st.VXE])\n",
    "print(mm.state[mmc.st.XE])\n",
    "mm.updatestate()\n",
    "print(mm.state[mmc.st.XE])\n",
    "\n"
   ]
  },
  {
   "cell_type": "markdown",
   "metadata": {},
   "source": [
    "##orbital speed test"
   ]
  },
  {
   "cell_type": "code",
   "execution_count": null,
   "metadata": {},
   "outputs": [],
   "source": [
    "\n",
    "mass=mm.const[mmc.cnst.ME]\n",
    "const=mm.const\n",
    "#orbspeed=mmc.orbitalspeed(x1,y1,vx1,vy1,x2,y2,vx2,vy2,mass,const)\n",
    "orbspeed=mmc.orbitalspeed(x1,y1,vx1,vy1,mm.state[mmc.st.XE],mm.state[mmc.st.YE],mm.state[mmc.st.VXE],mm.state[mmc.st.VYE],mass,const)"
   ]
  },
  {
   "cell_type": "code",
   "execution_count": 3,
   "metadata": {},
   "outputs": [
    {
     "name": "stdout",
     "output_type": "stream",
     "text": [
      "runmission\n",
      "0\n",
      "20\n",
      "1\n",
      "30\n",
      "2\n",
      "40\n",
      "3\n",
      "50\n",
      "4\n",
      "60\n",
      "5\n",
      "70\n",
      "6\n",
      "80\n",
      "7\n",
      "90\n",
      "8\n",
      "100\n",
      "9\n",
      "110\n"
     ]
    }
   ],
   "source": [
    "mm.runmission()"
   ]
  }
 ],
 "metadata": {
  "kernelspec": {
   "display_name": "Python 3",
   "language": "python",
   "name": "python3"
  },
  "language_info": {
   "codemirror_mode": {
    "name": "ipython",
    "version": 3
   },
   "file_extension": ".py",
   "mimetype": "text/x-python",
   "name": "python",
   "nbconvert_exporter": "python",
   "pygments_lexer": "ipython3",
   "version": "3.6.4"
  }
 },
 "nbformat": 4,
 "nbformat_minor": 2
}
