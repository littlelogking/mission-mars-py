{
 "cells": [
  {
   "cell_type": "code",
   "execution_count": 1,
   "metadata": {},
   "outputs": [],
   "source": [
    "import rocket as mmr\n",
    "\n",
    "rocket=mmr.rocket()\n",
    "#tmass=rocket.updatemass()\n",
    "#rocket.setmass(tmass)"
   ]
  },
  {
   "cell_type": "code",
   "execution_count": 2,
   "metadata": {},
   "outputs": [
    {
     "name": "stdout",
     "output_type": "stream",
     "text": [
      "10000\n",
      "40139.5\n",
      "{<rck.NE: 0>: 4, <rck.EP: 1>: 500}\n"
     ]
    }
   ],
   "source": [
    "print(rocket.payload[mmr.payld.FUEL])\n",
    "print(rocket.mass)\n",
    "print(rocket.rockprop)\n"
   ]
  }
 ],
 "metadata": {
  "kernelspec": {
   "display_name": "Python 3",
   "language": "python",
   "name": "python3"
  },
  "language_info": {
   "codemirror_mode": {
    "name": "ipython",
    "version": 3
   },
   "file_extension": ".py",
   "mimetype": "text/x-python",
   "name": "python",
   "nbconvert_exporter": "python",
   "pygments_lexer": "ipython3",
   "version": "3.6.4"
  }
 },
 "nbformat": 4,
 "nbformat_minor": 2
}
