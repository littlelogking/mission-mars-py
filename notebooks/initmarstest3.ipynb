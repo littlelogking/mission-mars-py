{
 "cells": [
  {
   "cell_type": "code",
   "execution_count": 2,
   "metadata": {},
   "outputs": [],
   "source": [
    "class Car(object):\n",
    "\n",
    "    wheels = 4\n",
    "\n",
    "    def __init__(self, make, model):\n",
    "        self.make = make\n",
    "        self.model = model\n",
    "\n"
   ]
  },
  {
   "cell_type": "code",
   "execution_count": 3,
   "metadata": {},
   "outputs": [
    {
     "name": "stdout",
     "output_type": "stream",
     "text": [
      "4\n",
      "4\n"
     ]
    }
   ],
   "source": [
    "mustang = Car('Ford', 'Mustang')\n",
    "print(mustang.wheels)\n",
    "# 4\n",
    "print(Car.wheels)\n",
    "# 4"
   ]
  },
  {
   "cell_type": "code",
   "execution_count": 1,
   "metadata": {},
   "outputs": [],
   "source": [
    "from enum import Enum\n",
    "\n",
    "#enumeration for constants\n",
    "class cnst(Enum):\n",
    "    G=0\n",
    "    RE=1    \n",
    "    DE=2\n",
    "    ME=3\n",
    "    MM=4\n",
    "    MS=5\n",
    "    MMARS=6\n",
    "    DEM=7\n",
    "    MR=8\n",
    "\n",
    "#enumeration for state variables\n",
    "class st(Enum):\n",
    "    T=0    \n",
    "    XE=1    \n",
    "    YE=2\n",
    "    VXE=3\n",
    "    VYE=4\n",
    "    XM=5\n",
    "    YM=6\n",
    "    VXM=7\n",
    "    VYM=8\n",
    "    VXS=9\n",
    "    VYS=10\n",
    "    XS=11\n",
    "    YS=12\n",
    "    XMA=13\n",
    "    YMA=14\n",
    "    VXMA=15\n",
    "    VYMA=16\n",
    "    X=17\n",
    "    Y=18\n",
    "    VX=19\n",
    "    VY=20\n",
    "    \n",
    "#enumeration for state variables\n",
    "class ctl(Enum):\n",
    "    DT=0\n",
    "    NS=1   #NUMBER OF STEPS\n",
    "    SINT=2   #SAVE INTERVAL\n",
    "    FX=3    # FORCE X DIRECTION\n",
    "    FY=4    # FORCE Y DIRECTION\n",
    "    \n",
    "def setconst():\n",
    "#function [state, const, control]=initmarsmission()\n",
    "#%% Initialise parameters for rocket to the moon\n",
    "#% will eventually take inputs e.g. read arguments from file\n",
    "\n",
    "#const.G=6.67e-11; %gravitational constants SI units\n",
    "#const.re=6.3781e6; %radius of the earth metres\n",
    "#const.de=2*6.3781e6; %diameter of the earth metres\n",
    "#const.me=5.97237e24; %earth mass kg\n",
    "#const.mm=7.342e22; %moonmas kg\n",
    "#const.ms=1.99e30; %mass sun\n",
    "#const.mmars=6.42e23 ; %mass mars\n",
    "#const.dem=381.5e6; %average dist moon-earth metres\n",
    "#const.mr=1.0; %mass of rocket\n",
    "    const={}\n",
    "    const[ cnst.G]=6.67e-11\n",
    "    const[cnst.RE]=6.3781e6 \n",
    "    const[cnst.DE]=2*6.3781e6\n",
    "    #5.97237e24, 7.342e22,1.99e30,6.42e23,381.5e6,1.0)\n",
    "    \n",
    "    return const\n",
    "    "
   ]
  },
  {
   "cell_type": "code",
   "execution_count": 13,
   "metadata": {},
   "outputs": [],
   "source": [
    "class marsmission(object):\n",
    "\n",
    "    const=setconst()\n",
    "\n",
    "    \n",
    "    def __init__(self, control, state):\n",
    "        self.control = control\n",
    "        self.state = state    \n",
    "    \n",
    "    def __init__(self):\n",
    "        \n",
    "        control={}\n",
    "        control[ctl.DT]=1\n",
    "        control[ctl.NS]=10 \n",
    "        control[ctl.SINT]=100000\n",
    "        \n",
    "        state={}\n",
    "        state[st.T]=0\n",
    "        state[st.XE]=0\n",
    "        state[st.YE]=0\n",
    "        state[st.VXE]=30000\n",
    "        \n",
    "        self.control = control\n",
    "        self.state = state\n",
    "        \n",
    "    def updatestate(self):\n",
    "        #print('hello')\n",
    "        self.state[st.XE]=self.state[st.XE]+10\n",
    "        print(self.state[st.XE])\n",
    "        #print('goodbye')\n",
    "        \n",
    "    def runmission(self):   #playmarsmission\n",
    "        print('runmission')\n",
    "        #cycle through the steps and call update\n",
    "        for i in range(self.control[ctl.NS]):\n",
    "            print(i)\n",
    "            self.updatestate()\n",
    "            \n",
    "    def dist(x1,y1,x2,y2):\n",
    "        sep=(x1-x2)^2+(y1-y2)^2\n",
    "        sep=sqrt(sep)\n",
    "        return sep\n",
    "    \n",
    "    def gravaccel(x,xs,y,ys,ms):\n",
    "        \n",
    "        gx=1\n",
    "        gy=1\n",
    "        \n",
    "        gravvec=(gx,gy)\n",
    "        return gravvec\n",
    "    \n",
    "    def orbitalspeed(x1,y1,vx1,vy1,x2,y2,vx2,vy2,mass,consts):\n",
    "        #[speed, relspeed, orbspeed] = orbitalspeed(x1,y1,vx1,vy1,x2,y2,vx2,vy2,mass,consts)\n",
    "        #%% orbitalspeed\n",
    "        #%   Object 1 is at x1,y1,vx1,vy1\n",
    "        #%   Object 2 is at x2,y2,vx2,vy2\n",
    "    \n",
    "        speed=1\n",
    "        relspeed=1\n",
    "        orbspeed=1\n",
    "        \n",
    "        orbitalspeed=(speed,relspeed,orbspeed)\n",
    "        return orbitalspeed\n"
   ]
  },
  {
   "cell_type": "code",
   "execution_count": 14,
   "metadata": {},
   "outputs": [
    {
     "name": "stdout",
     "output_type": "stream",
     "text": [
      "1\n",
      "30000\n",
      "0\n",
      "10\n",
      "10\n"
     ]
    }
   ],
   "source": [
    "mm=marsmission()\n",
    "print(mm.control[ctl.DT])\n",
    "print(mm.state[st.VXE])\n",
    "print(mm.state[st.XE])\n",
    "mm.updatestate()\n",
    "print(mm.state[st.XE])"
   ]
  },
  {
   "cell_type": "code",
   "execution_count": 15,
   "metadata": {},
   "outputs": [
    {
     "name": "stdout",
     "output_type": "stream",
     "text": [
      "runmission\n",
      "0\n",
      "20\n",
      "1\n",
      "30\n",
      "2\n",
      "40\n",
      "3\n",
      "50\n",
      "4\n",
      "60\n",
      "5\n",
      "70\n",
      "6\n",
      "80\n",
      "7\n",
      "90\n",
      "8\n",
      "100\n",
      "9\n",
      "110\n"
     ]
    }
   ],
   "source": [
    "mm.runmission()"
   ]
  }
 ],
 "metadata": {
  "kernelspec": {
   "display_name": "Python 3",
   "language": "python",
   "name": "python3"
  },
  "language_info": {
   "codemirror_mode": {
    "name": "ipython",
    "version": 3
   },
   "file_extension": ".py",
   "mimetype": "text/x-python",
   "name": "python",
   "nbconvert_exporter": "python",
   "pygments_lexer": "ipython3",
   "version": "3.6.4"
  }
 },
 "nbformat": 4,
 "nbformat_minor": 2
}
