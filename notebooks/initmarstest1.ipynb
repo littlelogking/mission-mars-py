{
 "cells": [
  {
   "cell_type": "markdown",
   "metadata": {},
   "source": [
    "## Initialise mars mission simulation tests\n",
    "\n",
    "first some examples of tuples, lists and enumerations to set up the data structures"
   ]
  },
  {
   "cell_type": "code",
   "execution_count": 2,
   "metadata": {},
   "outputs": [
    {
     "name": "stdout",
     "output_type": "stream",
     "text": [
      "tup1[0]:  physics\n",
      "tup2[1:5]:  (2, 3, 4, 5)\n"
     ]
    }
   ],
   "source": [
    "tup1 = ('physics', 'chemistry', 1997, 2000);\n",
    "tup2 = (1, 2, 3, 4, 5 );\n",
    "tup3 = \"a\", \"b\", \"c\", \"d\";\n",
    "tup1 = ('physics', 'chemistry', 1997, 2000);\n",
    "tup2 = (1, 2, 3, 4, 5, 6, 7 );\n",
    "print(\"tup1[0]: \", tup1[0]);\n",
    "print (\"tup2[1:5]: \", tup2[1:5]);"
   ]
  },
  {
   "cell_type": "code",
   "execution_count": 12,
   "metadata": {},
   "outputs": [],
   "source": [
    "from enum import Enum\n",
    "class Color(Enum):\n",
    "    RED = 1\n",
    "    GREEN = 2    \n",
    "    BLUE = 3"
   ]
  },
  {
   "cell_type": "code",
   "execution_count": 24,
   "metadata": {},
   "outputs": [
    {
     "name": "stdout",
     "output_type": "stream",
     "text": [
      "2\n"
     ]
    }
   ],
   "source": [
    "tupc={}\n",
    "tupc[Color.RED]=2\n",
    "tupc[Color.GREEN]=2\n",
    "print(tupc[Color.RED])"
   ]
  },
  {
   "cell_type": "code",
   "execution_count": 22,
   "metadata": {},
   "outputs": [],
   "source": [
    "from enum import Enum\n",
    "\n",
    "#enumeration for constants\n",
    "class cnst(Enum):\n",
    "    G=0\n",
    "    RE=1    \n",
    "    DE=2\n",
    "    ME=3\n",
    "    MM=4\n",
    "    MS=5\n",
    "    MMARS=6\n",
    "    DEM=7\n",
    "    MR=8\n",
    "\n",
    "#enumeration for state variables\n",
    "class st(Enum):\n",
    "    T=0    \n",
    "    XE=1    \n",
    "    YE=2\n",
    "    VXE=3\n",
    "    VYE=4\n",
    "    XM=5\n",
    "    YM=6\n",
    "    VXM=7\n",
    "    VYM=8\n",
    "    VXS=9\n",
    "    VYS=10\n",
    "    XS=11\n",
    "    YS=12\n",
    "    XMA=13\n",
    "    YMA=14\n",
    "    VXMA=15\n",
    "    VYMA=16\n",
    "    X=17\n",
    "    Y=18\n",
    "    VX=19\n",
    "    VY=20\n",
    "    \n",
    "#enumeration for state variables\n",
    "class ctl(Enum):\n",
    "    DT=0\n",
    "    NS=1   #NUMBER OF STEPS\n",
    "    SINT=2   #SAVE INTERVAL\n",
    "    FX=3    # FORCE X DIRECTION\n",
    "    FY=4    # FORCE Y DIRECTION\n",
    "    \n",
    "    \n",
    "\n",
    "def initmarsmission():\n",
    "#function [state, const, control]=initmarsmission()\n",
    "#%% Initialise parameters for rocket to the moon\n",
    "#% will eventually take inputs e.g. read arguments from file\n",
    "\n",
    "#const.G=6.67e-11; %gravitational constants SI units\n",
    "#const.re=6.3781e6; %radius of the earth metres\n",
    "#const.de=2*6.3781e6; %diameter of the earth metres\n",
    "#const.me=5.97237e24; %earth mass kg\n",
    "#const.mm=7.342e22; %moonmas kg\n",
    "#const.ms=1.99e30; %mass sun\n",
    "#const.mmars=6.42e23 ; %mass mars\n",
    "#const.dem=381.5e6; %average dist moon-earth metres\n",
    "#const.mr=1.0; %mass of rocket\n",
    "    const={}\n",
    "    const[ cnst.G]=6.67e-11\n",
    "    const[cnst.RE]=6.3781e6 \n",
    "    const[cnst.DE]=2*6.3781e6\n",
    "    #5.97237e24, 7.342e22,1.99e30,6.42e23,381.5e6,1.0)\n",
    "    \n",
    "    \n",
    "    \n",
    "    \n",
    "#%%state vars\n",
    "\n",
    "#state.time=0; %time hours\n",
    "#state.xe=0; %x position of earth\n",
    "#state.ye=0; %y position of earth\n",
    "#state.vxe=30000;% x-speed of the earth\n",
    "#state.vye=0;%y-speed of the earth\n",
    "#state.xm=381.5e6; %xpos moon\n",
    "#state.ym=0; %ypos moon\n",
    "#state.vxm=+state.vxe; %moon speed in orbit x-direction\n",
    "#state.vym=state.vye+1023.1;\n",
    "#state.vxs=0.0;\n",
    "#state.vys=0.0;\n",
    "#state.xs=0; %x position of sun\n",
    "#state.ys=149.6e9; %y position of sun    \n",
    "    \n",
    "#state.xma=0; %xpos mars\n",
    "#state.yma=225e9+state.ys; %ypos mars (note added sun distance on)\n",
    "#state.vxma=-24130;\n",
    "#state.vyma=0;\n",
    "    \n",
    "#%initial conds for rocket\n",
    "#state.u=9000; %initial speed%metres per second;\n",
    "#state.y=const.re+50000;\n",
    "#state.x=0;\n",
    "#%convert theta to radians\n",
    "#state.theta=0;\n",
    "#state.theta=state.theta*2*pi/360;\n",
    "#state.vx=state.u*cos(state.theta);\n",
    "#state.vy=state.u*sin(state.theta);   \n",
    "    \n",
    "    \n",
    "    \n",
    "    \n",
    "    state=(1.0, 2.0)\n",
    " \n",
    "\n",
    "\n",
    "#control vars\n",
    "#control.nsteps=500000;\n",
    "#control.dt=1; %time step\n",
    "#control.theta=0;\n",
    "#control.box=800e6; %include moon\n",
    "#control.saveinterval=control.nsteps;\n",
    "#control.fx=0; %fx and fy force on rocket (thrust from motors)\n",
    "#control.fy=0;\n",
    "   \n",
    "\n",
    "    \n",
    "    \n",
    "    \n",
    "    control= (1.0, 2.0)\n",
    "\n",
    "    marsmission = (state, control,const)\n",
    "\n",
    "    return marsmission"
   ]
  },
  {
   "cell_type": "code",
   "execution_count": 23,
   "metadata": {},
   "outputs": [
    {
     "name": "stdout",
     "output_type": "stream",
     "text": [
      "6.67e-11\n"
     ]
    }
   ],
   "source": [
    "mmm=initmarsmission()\n",
    "\n",
    "const=mmm[2]\n",
    "print(const[cnst.G])\n"
   ]
  }
 ],
 "metadata": {
  "kernelspec": {
   "display_name": "Python 3",
   "language": "python",
   "name": "python3"
  },
  "language_info": {
   "codemirror_mode": {
    "name": "ipython",
    "version": 3
   },
   "file_extension": ".py",
   "mimetype": "text/x-python",
   "name": "python",
   "nbconvert_exporter": "python",
   "pygments_lexer": "ipython3",
   "version": "3.6.4"
  }
 },
 "nbformat": 4,
 "nbformat_minor": 2
}
