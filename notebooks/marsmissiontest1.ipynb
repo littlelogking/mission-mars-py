{
 "cells": [
  {
   "cell_type": "markdown",
   "metadata": {},
   "source": [
    "#Mars mission Test Script"
   ]
  },
  {
   "cell_type": "markdown",
   "metadata": {},
   "source": [
    "State, control and const variable and initialisation testing"
   ]
  },
  {
   "cell_type": "code",
   "execution_count": 1,
   "metadata": {},
   "outputs": [
    {
     "name": "stdout",
     "output_type": "stream",
     "text": [
      "1.0\n",
      "30000.0\n",
      "0.0\n",
      "30000.00001682104\n"
     ]
    }
   ],
   "source": [
    "import marsmission as mmc\n",
    "\n",
    "mm=mmc.marsmission()\n",
    "print(mm.control[mmc.ctl.DT])\n",
    "print(mm.state[mmc.st.VXE])\n",
    "print(mm.state[mmc.st.XE])\n",
    "mm.updatestate()\n",
    "print(mm.state[mmc.st.XE])\n",
    "\n"
   ]
  },
  {
   "cell_type": "markdown",
   "metadata": {},
   "source": [
    "##orbital speed test"
   ]
  },
  {
   "cell_type": "code",
   "execution_count": 2,
   "metadata": {},
   "outputs": [
    {
     "name": "stdout",
     "output_type": "stream",
     "text": [
      "(31320.91952673165, 21000.0, 7872.16088898209)\n"
     ]
    }
   ],
   "source": [
    "\n",
    "mass=mm.const[mmc.cnst.ME]\n",
    "const=mm.const\n",
    "x1=mm.state[mmc.st.X]\n",
    "y1=mm.state[mmc.st.Y]\n",
    "vx1=mm.state[mmc.st.VX]\n",
    "vy1=mm.state[mmc.st.VY]\n",
    "#orbspeed=mmc.orbitalspeed(x1,y1,vx1,vy1,x2,y2,vx2,vy2,mass,const)\n",
    "orbspeed=mm.orbitalspeed(x1,y1,vx1,vy1,mm.state[mmc.st.XE],mm.state[mmc.st.YE],mm.state[mmc.st.VXE],mm.state[mmc.st.VYE],mass,const)\n",
    "\n",
    "print(orbspeed)"
   ]
  },
  {
   "cell_type": "markdown",
   "metadata": {},
   "source": [
    "##grav accel test"
   ]
  },
  {
   "cell_type": "code",
   "execution_count": 3,
   "metadata": {},
   "outputs": [
    {
     "name": "stdout",
     "output_type": "stream",
     "text": [
      "(-0.031494736946907936, 9.640531750150764)\n"
     ]
    }
   ],
   "source": [
    "#def gravaccel(self,x,xs,y,ys,ms):\n",
    "\n",
    "grav=mm.gravaccel(x1,mm.state[mmc.st.XE],y1,mm.state[mmc.st.YE],mass)\n",
    "print(grav)"
   ]
  },
  {
   "cell_type": "markdown",
   "metadata": {},
   "source": [
    "##dist function test"
   ]
  },
  {
   "cell_type": "code",
   "execution_count": 4,
   "metadata": {},
   "outputs": [
    {
     "name": "stdout",
     "output_type": "stream",
     "text": [
      "6428129.4821138745\n"
     ]
    }
   ],
   "source": [
    "sep=mm.dist(x1,y1,mm.state[mmc.st.XE],mm.state[mmc.st.YE])\n",
    "print(sep)"
   ]
  },
  {
   "cell_type": "markdown",
   "metadata": {},
   "source": [
    "##orbital angle test"
   ]
  },
  {
   "cell_type": "code",
   "execution_count": 5,
   "metadata": {},
   "outputs": [
    {
     "name": "stdout",
     "output_type": "stream",
     "text": [
      "89.81282058593231\n"
     ]
    }
   ],
   "source": [
    "orbangle=mm.orbitalangle(x1,y1,vx1,vy1,mm.state[mmc.st.XE],mm.state[mmc.st.YE],mm.state[mmc.st.VXE],mm.state[mmc.st.VYE])\n",
    "print(orbangle)"
   ]
  },
  {
   "cell_type": "markdown",
   "metadata": {},
   "source": [
    "##run mission test"
   ]
  },
  {
   "cell_type": "code",
   "execution_count": 6,
   "metadata": {},
   "outputs": [
    {
     "name": "stdout",
     "output_type": "stream",
     "text": [
      "runmission\n",
      "0\n",
      "1\n",
      "2\n",
      "3\n",
      "4\n",
      "5\n",
      "6\n",
      "7\n",
      "8\n",
      "9\n"
     ]
    },
    {
     "data": {
      "text/plain": [
       "{<st.T: 0>: 0.0,\n",
       " <st.VX: 19>: 9000.0,\n",
       " <st.VXE: 3>: 30000.0,\n",
       " <st.VXM: 7>: 30000.0,\n",
       " <st.VXMA: 15>: -24130.0,\n",
       " <st.VXS: 9>: 0.0,\n",
       " <st.VY: 20>: 0.0,\n",
       " <st.VYE: 4>: 0.0,\n",
       " <st.VYM: 8>: 1023.1,\n",
       " <st.VYMA: 16>: 0,\n",
       " <st.VYS: 10>: 0.0,\n",
       " <st.X: 17>: 99000.8655518532,\n",
       " <st.XE: 1>: 330000.00018499873,\n",
       " <st.XM: 5>: 381829999.984863,\n",
       " <st.XMA: 13>: -265429.99999999226,\n",
       " <st.XS: 11>: 0.0,\n",
       " <st.Y: 18>: 6428047.038212291,\n",
       " <st.YE: 2>: 0.03261958825083068,\n",
       " <st.YM: 6>: 11254.132619067204,\n",
       " <st.YMA: 14>: 374599999999.9859,\n",
       " <st.YS: 12>: 149600000000.0}"
      ]
     },
     "execution_count": 6,
     "metadata": {},
     "output_type": "execute_result"
    }
   ],
   "source": [
    "mm.runmission()"
   ]
  }
 ],
 "metadata": {
  "kernelspec": {
   "display_name": "Python 3",
   "language": "python",
   "name": "python3"
  },
  "language_info": {
   "codemirror_mode": {
    "name": "ipython",
    "version": 3
   },
   "file_extension": ".py",
   "mimetype": "text/x-python",
   "name": "python",
   "nbconvert_exporter": "python",
   "pygments_lexer": "ipython3",
   "version": "3.6.4"
  }
 },
 "nbformat": 4,
 "nbformat_minor": 2
}
