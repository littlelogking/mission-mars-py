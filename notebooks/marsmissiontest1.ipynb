{
 "cells": [
  {
   "cell_type": "markdown",
   "metadata": {},
   "source": [
    "#Mars mission Test Script"
   ]
  },
  {
   "cell_type": "markdown",
   "metadata": {},
   "source": [
    "State, control and const variable and initialisation testing"
   ]
  },
  {
   "cell_type": "code",
   "execution_count": 1,
   "metadata": {},
   "outputs": [
    {
     "name": "stdout",
     "output_type": "stream",
     "text": [
      "1.0\n",
      "30000.0\n",
      "0.0\n",
      "10.0\n",
      "10.0\n"
     ]
    }
   ],
   "source": [
    "import marsmission as mmc\n",
    "\n",
    "mm=mmc.marsmission()\n",
    "print(mm.control[mmc.ctl.DT])\n",
    "print(mm.state[mmc.st.VXE])\n",
    "print(mm.state[mmc.st.XE])\n",
    "mm.updatestate()\n",
    "print(mm.state[mmc.st.XE])\n",
    "\n"
   ]
  },
  {
   "cell_type": "markdown",
   "metadata": {},
   "source": [
    "##orbital speed test"
   ]
  },
  {
   "cell_type": "code",
   "execution_count": 2,
   "metadata": {},
   "outputs": [
    {
     "name": "stdout",
     "output_type": "stream",
     "text": [
      "(31320.91952673165, 36619.66684720111, 7872.178941565001)\n"
     ]
    }
   ],
   "source": [
    "\n",
    "mass=mm.const[mmc.cnst.ME]\n",
    "const=mm.const\n",
    "x1=mm.state[mmc.st.X]\n",
    "y1=mm.state[mmc.st.Y]\n",
    "vx1=mm.state[mmc.st.VX]\n",
    "vy1=mm.state[mmc.st.VY]\n",
    "#orbspeed=mmc.orbitalspeed(x1,y1,vx1,vy1,x2,y2,vx2,vy2,mass,const)\n",
    "orbspeed=mm.orbitalspeed(x1,y1,vx1,vy1,mm.state[mmc.st.XE],mm.state[mmc.st.YE],mm.state[mmc.st.VXE],mm.state[mmc.st.VYE],mass,const)\n",
    "\n",
    "print(orbspeed)"
   ]
  },
  {
   "cell_type": "markdown",
   "metadata": {},
   "source": [
    "##grav accel test"
   ]
  },
  {
   "cell_type": "code",
   "execution_count": 4,
   "metadata": {},
   "outputs": [
    {
     "ename": "NameError",
     "evalue": "name 'gravaccel' is not defined",
     "output_type": "error",
     "traceback": [
      "\u001b[1;31m---------------------------------------------------------------------------\u001b[0m",
      "\u001b[1;31mNameError\u001b[0m                                 Traceback (most recent call last)",
      "\u001b[1;32m<ipython-input-4-f6a75d866734>\u001b[0m in \u001b[0;36m<module>\u001b[1;34m()\u001b[0m\n\u001b[0;32m      1\u001b[0m \u001b[1;31m#def gravaccel(self,x,xs,y,ys,ms):\u001b[0m\u001b[1;33m\u001b[0m\u001b[1;33m\u001b[0m\u001b[0m\n\u001b[0;32m      2\u001b[0m \u001b[1;33m\u001b[0m\u001b[0m\n\u001b[1;32m----> 3\u001b[1;33m \u001b[0mgrav\u001b[0m\u001b[1;33m=\u001b[0m\u001b[0mgravaccel\u001b[0m\u001b[1;33m(\u001b[0m\u001b[0mx\u001b[0m\u001b[1;33m,\u001b[0m\u001b[0mmm\u001b[0m\u001b[1;33m.\u001b[0m\u001b[0mstate\u001b[0m\u001b[1;33m[\u001b[0m\u001b[0mmmc\u001b[0m\u001b[1;33m.\u001b[0m\u001b[0mst\u001b[0m\u001b[1;33m.\u001b[0m\u001b[0mXE\u001b[0m\u001b[1;33m]\u001b[0m\u001b[1;33m,\u001b[0m\u001b[0my\u001b[0m\u001b[1;33m,\u001b[0m\u001b[0mmm\u001b[0m\u001b[1;33m.\u001b[0m\u001b[0mstate\u001b[0m\u001b[1;33m[\u001b[0m\u001b[0mmmc\u001b[0m\u001b[1;33m.\u001b[0m\u001b[0mst\u001b[0m\u001b[1;33m.\u001b[0m\u001b[0mXE\u001b[0m\u001b[1;33m]\u001b[0m\u001b[1;33m,\u001b[0m\u001b[0mmass\u001b[0m\u001b[1;33m)\u001b[0m\u001b[1;33m\u001b[0m\u001b[0m\n\u001b[0m\u001b[0;32m      4\u001b[0m \u001b[0mprint\u001b[0m\u001b[1;33m(\u001b[0m\u001b[0mgrav\u001b[0m\u001b[1;33m)\u001b[0m\u001b[1;33m\u001b[0m\u001b[0m\n",
      "\u001b[1;31mNameError\u001b[0m: name 'gravaccel' is not defined"
     ]
    }
   ],
   "source": [
    "#def gravaccel(self,x,xs,y,ys,ms):\n",
    "\n",
    "grav=gravaccel(x,mm.state[mmc.st.XE],y,mm.state[mmc.st.XE],mass)\n",
    "print(grav)"
   ]
  },
  {
   "cell_type": "markdown",
   "metadata": {},
   "source": [
    "##run mission test"
   ]
  },
  {
   "cell_type": "code",
   "execution_count": 3,
   "metadata": {},
   "outputs": [
    {
     "name": "stdout",
     "output_type": "stream",
     "text": [
      "runmission\n",
      "0\n",
      "20\n",
      "1\n",
      "30\n",
      "2\n",
      "40\n",
      "3\n",
      "50\n",
      "4\n",
      "60\n",
      "5\n",
      "70\n",
      "6\n",
      "80\n",
      "7\n",
      "90\n",
      "8\n",
      "100\n",
      "9\n",
      "110\n"
     ]
    }
   ],
   "source": [
    "mm.runmission()"
   ]
  }
 ],
 "metadata": {
  "kernelspec": {
   "display_name": "Python 3",
   "language": "python",
   "name": "python3"
  },
  "language_info": {
   "codemirror_mode": {
    "name": "ipython",
    "version": 3
   },
   "file_extension": ".py",
   "mimetype": "text/x-python",
   "name": "python",
   "nbconvert_exporter": "python",
   "pygments_lexer": "ipython3",
   "version": "3.6.4"
  }
 },
 "nbformat": 4,
 "nbformat_minor": 2
}
